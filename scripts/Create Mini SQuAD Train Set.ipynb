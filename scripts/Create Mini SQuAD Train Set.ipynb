{
 "cells": [
  {
   "cell_type": "code",
   "execution_count": 3,
   "metadata": {},
   "outputs": [],
   "source": [
    "import json"
   ]
  },
  {
   "cell_type": "markdown",
   "metadata": {},
   "source": [
    "## SQuAD2.0 Dev set"
   ]
  },
  {
   "cell_type": "code",
   "execution_count": 9,
   "metadata": {},
   "outputs": [],
   "source": [
    "dev = json.load(open(\"../data/squad/dev-v2.0.json\", 'rb'))"
   ]
  },
  {
   "cell_type": "markdown",
   "metadata": {},
   "source": [
    "There are 35 Wikipedia article's worth of paragraphs in the dev set of SQuAD2.0"
   ]
  },
  {
   "cell_type": "code",
   "execution_count": 10,
   "metadata": {},
   "outputs": [
    {
     "data": {
      "text/plain": [
       "35"
      ]
     },
     "execution_count": 10,
     "metadata": {},
     "output_type": "execute_result"
    }
   ],
   "source": [
    "len(dev['data'])"
   ]
  },
  {
   "cell_type": "markdown",
   "metadata": {},
   "source": [
    "The first Wikipedia article, titled \"Normans,\" has 39 paragraphs"
   ]
  },
  {
   "cell_type": "code",
   "execution_count": 11,
   "metadata": {},
   "outputs": [
    {
     "name": "stdout",
     "output_type": "stream",
     "text": [
      "Normans\n",
      "39\n"
     ]
    }
   ],
   "source": [
    "print(dev['data'][0]['title'])\n",
    "print(len(dev['data'][0]['paragraphs']))"
   ]
  },
  {
   "cell_type": "markdown",
   "metadata": {},
   "source": [
    "There are 208 questions related to the paragraphs of the Normans Wikipedia article"
   ]
  },
  {
   "cell_type": "code",
   "execution_count": 12,
   "metadata": {},
   "outputs": [
    {
     "name": "stdout",
     "output_type": "stream",
     "text": [
      "208\n"
     ]
    }
   ],
   "source": [
    "count = 0\n",
    "for p in dev['data'][0]['paragraphs']:\n",
    "    for q in p['qas']:\n",
    "        count += 1\n",
    "print(count)"
   ]
  },
  {
   "cell_type": "markdown",
   "metadata": {},
   "source": [
    "## SQuAD2.0 Train set"
   ]
  },
  {
   "cell_type": "code",
   "execution_count": 13,
   "metadata": {},
   "outputs": [],
   "source": [
    "train = json.load(open(\"../data/squad/train-v2.0.json\", 'rb'))"
   ]
  },
  {
   "cell_type": "markdown",
   "metadata": {},
   "source": [
    "There are 442 Wikipedia articles in the test set"
   ]
  },
  {
   "cell_type": "code",
   "execution_count": 14,
   "metadata": {},
   "outputs": [
    {
     "data": {
      "text/plain": [
       "442"
      ]
     },
     "execution_count": 14,
     "metadata": {},
     "output_type": "execute_result"
    }
   ],
   "source": [
    "len(train['data'])"
   ]
  },
  {
   "cell_type": "markdown",
   "metadata": {},
   "source": [
    "The first Wikipedia article in the test set is titled \"Beyoncé\" and contains 66 paragraphs"
   ]
  },
  {
   "cell_type": "code",
   "execution_count": 15,
   "metadata": {},
   "outputs": [
    {
     "name": "stdout",
     "output_type": "stream",
     "text": [
      "Beyoncé\n",
      "66\n"
     ]
    }
   ],
   "source": [
    "print(train['data'][0]['title'])\n",
    "print(len(train['data'][0]['paragraphs']))"
   ]
  },
  {
   "cell_type": "markdown",
   "metadata": {},
   "source": [
    "That article contains a total of 753 questions."
   ]
  },
  {
   "cell_type": "code",
   "execution_count": 16,
   "metadata": {},
   "outputs": [
    {
     "name": "stdout",
     "output_type": "stream",
     "text": [
      "753\n"
     ]
    }
   ],
   "source": [
    "count = 0\n",
    "for p in train['data'][0]['paragraphs']:\n",
    "    for q in p['qas']:\n",
    "        count += 1\n",
    "print(count)"
   ]
  },
  {
   "cell_type": "code",
   "execution_count": 57,
   "metadata": {},
   "outputs": [
    {
     "name": "stdout",
     "output_type": "stream",
     "text": [
      "Total number of questions in the train set is 130319.\n"
     ]
    }
   ],
   "source": [
    "train_data = {}\n",
    "total_count = 0\n",
    "for article in train['data']:\n",
    "    article_count = 0\n",
    "    for paragraph in article['paragraphs']:\n",
    "        for question in paragraph['qas']:\n",
    "            total_count += 1\n",
    "            article_count += 1\n",
    "    train_data[article['title']] = article_count\n",
    "\n",
    "print(f\"Total number of questions in the train set is {total_count}.\")"
   ]
  },
  {
   "cell_type": "code",
   "execution_count": 18,
   "metadata": {},
   "outputs": [
    {
     "data": {
      "text/html": [
       "<div>\n",
       "<style scoped>\n",
       "    .dataframe tbody tr th:only-of-type {\n",
       "        vertical-align: middle;\n",
       "    }\n",
       "\n",
       "    .dataframe tbody tr th {\n",
       "        vertical-align: top;\n",
       "    }\n",
       "\n",
       "    .dataframe thead th {\n",
       "        text-align: right;\n",
       "    }\n",
       "</style>\n",
       "<table border=\"1\" class=\"dataframe\">\n",
       "  <thead>\n",
       "    <tr style=\"text-align: right;\">\n",
       "      <th></th>\n",
       "      <th>title</th>\n",
       "      <th>count</th>\n",
       "    </tr>\n",
       "  </thead>\n",
       "  <tbody>\n",
       "    <tr>\n",
       "      <td>0</td>\n",
       "      <td>Beyoncé</td>\n",
       "      <td>753</td>\n",
       "    </tr>\n",
       "    <tr>\n",
       "      <td>1</td>\n",
       "      <td>Frédéric_Chopin</td>\n",
       "      <td>697</td>\n",
       "    </tr>\n",
       "    <tr>\n",
       "      <td>2</td>\n",
       "      <td>Sino-Tibetan_relations_during_the_Ming_dynasty</td>\n",
       "      <td>291</td>\n",
       "    </tr>\n",
       "    <tr>\n",
       "      <td>3</td>\n",
       "      <td>IPod</td>\n",
       "      <td>327</td>\n",
       "    </tr>\n",
       "    <tr>\n",
       "      <td>4</td>\n",
       "      <td>The_Legend_of_Zelda:_Twilight_Princess</td>\n",
       "      <td>374</td>\n",
       "    </tr>\n",
       "    <tr>\n",
       "      <td>...</td>\n",
       "      <td>...</td>\n",
       "      <td>...</td>\n",
       "    </tr>\n",
       "    <tr>\n",
       "      <td>437</td>\n",
       "      <td>Infection</td>\n",
       "      <td>290</td>\n",
       "    </tr>\n",
       "    <tr>\n",
       "      <td>438</td>\n",
       "      <td>Hunting</td>\n",
       "      <td>531</td>\n",
       "    </tr>\n",
       "    <tr>\n",
       "      <td>439</td>\n",
       "      <td>Kathmandu</td>\n",
       "      <td>276</td>\n",
       "    </tr>\n",
       "    <tr>\n",
       "      <td>440</td>\n",
       "      <td>Myocardial_infarction</td>\n",
       "      <td>126</td>\n",
       "    </tr>\n",
       "    <tr>\n",
       "      <td>441</td>\n",
       "      <td>Matter</td>\n",
       "      <td>142</td>\n",
       "    </tr>\n",
       "  </tbody>\n",
       "</table>\n",
       "<p>442 rows × 2 columns</p>\n",
       "</div>"
      ],
      "text/plain": [
       "                                              title  count\n",
       "0                                           Beyoncé    753\n",
       "1                                   Frédéric_Chopin    697\n",
       "2    Sino-Tibetan_relations_during_the_Ming_dynasty    291\n",
       "3                                              IPod    327\n",
       "4            The_Legend_of_Zelda:_Twilight_Princess    374\n",
       "..                                              ...    ...\n",
       "437                                       Infection    290\n",
       "438                                         Hunting    531\n",
       "439                                       Kathmandu    276\n",
       "440                           Myocardial_infarction    126\n",
       "441                                          Matter    142\n",
       "\n",
       "[442 rows x 2 columns]"
      ]
     },
     "execution_count": 18,
     "metadata": {},
     "output_type": "execute_result"
    }
   ],
   "source": [
    "import pandas as pd\n",
    "\n",
    "df = pd.DataFrame(data=train_data.items(), columns=['title', 'count'])\n",
    "df"
   ]
  },
  {
   "cell_type": "markdown",
   "metadata": {},
   "source": [
    "### Let's make a mini-train\n",
    "There are no GPUs on the ffl cdsw cluster. Training a model on SQuAD2.0 would thus take for-eh-ver. So we'll make a mini train set to demonstrate the workflow. "
   ]
  },
  {
   "cell_type": "code",
   "execution_count": 19,
   "metadata": {},
   "outputs": [
    {
     "data": {
      "text/plain": [
       "4719"
      ]
     },
     "execution_count": 19,
     "metadata": {},
     "output_type": "execute_result"
    }
   ],
   "source": [
    "df[:10]['count'].sum()"
   ]
  },
  {
   "cell_type": "code",
   "execution_count": 20,
   "metadata": {},
   "outputs": [
    {
     "data": {
      "text/html": [
       "<div>\n",
       "<style scoped>\n",
       "    .dataframe tbody tr th:only-of-type {\n",
       "        vertical-align: middle;\n",
       "    }\n",
       "\n",
       "    .dataframe tbody tr th {\n",
       "        vertical-align: top;\n",
       "    }\n",
       "\n",
       "    .dataframe thead th {\n",
       "        text-align: right;\n",
       "    }\n",
       "</style>\n",
       "<table border=\"1\" class=\"dataframe\">\n",
       "  <thead>\n",
       "    <tr style=\"text-align: right;\">\n",
       "      <th></th>\n",
       "      <th>title</th>\n",
       "      <th>count</th>\n",
       "    </tr>\n",
       "  </thead>\n",
       "  <tbody>\n",
       "    <tr>\n",
       "      <td>0</td>\n",
       "      <td>Beyoncé</td>\n",
       "      <td>753</td>\n",
       "    </tr>\n",
       "    <tr>\n",
       "      <td>1</td>\n",
       "      <td>Frédéric_Chopin</td>\n",
       "      <td>697</td>\n",
       "    </tr>\n",
       "    <tr>\n",
       "      <td>2</td>\n",
       "      <td>Sino-Tibetan_relations_during_the_Ming_dynasty</td>\n",
       "      <td>291</td>\n",
       "    </tr>\n",
       "    <tr>\n",
       "      <td>3</td>\n",
       "      <td>IPod</td>\n",
       "      <td>327</td>\n",
       "    </tr>\n",
       "    <tr>\n",
       "      <td>4</td>\n",
       "      <td>The_Legend_of_Zelda:_Twilight_Princess</td>\n",
       "      <td>374</td>\n",
       "    </tr>\n",
       "    <tr>\n",
       "      <td>5</td>\n",
       "      <td>Spectre_(2015_film)</td>\n",
       "      <td>462</td>\n",
       "    </tr>\n",
       "    <tr>\n",
       "      <td>6</td>\n",
       "      <td>2008_Sichuan_earthquake</td>\n",
       "      <td>521</td>\n",
       "    </tr>\n",
       "    <tr>\n",
       "      <td>7</td>\n",
       "      <td>New_York_City</td>\n",
       "      <td>817</td>\n",
       "    </tr>\n",
       "    <tr>\n",
       "      <td>8</td>\n",
       "      <td>To_Kill_a_Mockingbird</td>\n",
       "      <td>228</td>\n",
       "    </tr>\n",
       "    <tr>\n",
       "      <td>9</td>\n",
       "      <td>Solar_energy</td>\n",
       "      <td>249</td>\n",
       "    </tr>\n",
       "  </tbody>\n",
       "</table>\n",
       "</div>"
      ],
      "text/plain": [
       "                                            title  count\n",
       "0                                         Beyoncé    753\n",
       "1                                 Frédéric_Chopin    697\n",
       "2  Sino-Tibetan_relations_during_the_Ming_dynasty    291\n",
       "3                                            IPod    327\n",
       "4          The_Legend_of_Zelda:_Twilight_Princess    374\n",
       "5                             Spectre_(2015_film)    462\n",
       "6                         2008_Sichuan_earthquake    521\n",
       "7                                   New_York_City    817\n",
       "8                           To_Kill_a_Mockingbird    228\n",
       "9                                    Solar_energy    249"
      ]
     },
     "execution_count": 20,
     "metadata": {},
     "output_type": "execute_result"
    }
   ],
   "source": [
    "df[:10]"
   ]
  },
  {
   "cell_type": "code",
   "execution_count": 21,
   "metadata": {},
   "outputs": [
    {
     "name": "stdout",
     "output_type": "stream",
     "text": [
      "10\n"
     ]
    }
   ],
   "source": [
    "mini_train = train['data'][:10]\n",
    "print(len(mini_train))"
   ]
  },
  {
   "cell_type": "code",
   "execution_count": 22,
   "metadata": {},
   "outputs": [],
   "source": [
    "mini_train = {'data':mini_train}"
   ]
  },
  {
   "cell_type": "code",
   "execution_count": 56,
   "metadata": {},
   "outputs": [],
   "source": [
    "json.dump(mini_train, open(\"../data/squad/mini_train-v2.0.json\",\"w\"))"
   ]
  },
  {
   "cell_type": "markdown",
   "metadata": {},
   "source": [
    "## COVID-QA"
   ]
  },
  {
   "cell_type": "code",
   "execution_count": 36,
   "metadata": {},
   "outputs": [
    {
     "ename": "SyntaxError",
     "evalue": "invalid syntax (fetch_data.py, line 4)",
     "output_type": "error",
     "traceback": [
      "\u001b[0;36m  File \u001b[0;32m\"/home/cdsw/src/fetch_data.py\"\u001b[0;36m, line \u001b[0;32m4\u001b[0m\n\u001b[0;31m    !wget -P $SQUAD_DIR https://rajpurkar.github.io/SQuAD-explorer/dataset/train-v1.1.json\u001b[0m\n\u001b[0m    ^\u001b[0m\n\u001b[0;31mSyntaxError\u001b[0m\u001b[0;31m:\u001b[0m invalid syntax\n"
     ]
    }
   ],
   "source": [
    "# I don't understand why this import won't work.\n",
    "# I can copy/paste the exact func in the cell below and it works just fine. \n",
    "# I've tried hunting for missing characters or off indentations and nothing makes sense\n",
    "from fetch_data import download_covidQA"
   ]
  },
  {
   "cell_type": "code",
   "execution_count": 29,
   "metadata": {},
   "outputs": [],
   "source": [
    "def download_covidQA():\n",
    "    !wget -P /home/cdsw/data/covidQA https://github.com/deepset-ai/COVID-QA/raw/master/data/question-answering/COVID-QA.json"
   ]
  },
  {
   "cell_type": "code",
   "execution_count": 30,
   "metadata": {},
   "outputs": [
    {
     "name": "stdout",
     "output_type": "stream",
     "text": [
      "--2020-09-03 20:44:14--  https://github.com/deepset-ai/COVID-QA/raw/master/data/question-answering/COVID-QA.json\n",
      "Resolving github.com (github.com)... 192.30.255.113\n",
      "Connecting to github.com (github.com)|192.30.255.113|:443... connected.\n",
      "HTTP request sent, awaiting response... 302 Found\n",
      "Location: https://raw.githubusercontent.com/deepset-ai/COVID-QA/master/data/question-answering/COVID-QA.json [following]\n",
      "--2020-09-03 20:44:17--  https://raw.githubusercontent.com/deepset-ai/COVID-QA/master/data/question-answering/COVID-QA.json\n",
      "Resolving raw.githubusercontent.com (raw.githubusercontent.com)... 151.101.40.133\n",
      "Connecting to raw.githubusercontent.com (raw.githubusercontent.com)|151.101.40.133|:443... connected.\n",
      "HTTP request sent, awaiting response... 200 OK\n",
      "Length: 4418117 (4.2M) [text/plain]\n",
      "Saving to: ‘/home/cdsw/data/covidQA/COVID-QA.json.1’\n",
      "\n",
      "COVID-QA.json.1     100%[===================>]   4.21M  --.-KB/s    in 0.06s   \n",
      "\n",
      "2020-09-03 20:44:20 (73.3 MB/s) - ‘/home/cdsw/data/covidQA/COVID-QA.json.1’ saved [4418117/4418117]\n",
      "\n"
     ]
    }
   ],
   "source": [
    "download_covidQA()"
   ]
  },
  {
   "cell_type": "code",
   "execution_count": 4,
   "metadata": {},
   "outputs": [],
   "source": [
    "covid = json.load(open(\"../data/covidQA/COVID-QA.json\",\"rb\"))"
   ]
  },
  {
   "cell_type": "markdown",
   "metadata": {},
   "source": [
    "There are 147 medical articles in the COVIDQA dataset"
   ]
  },
  {
   "cell_type": "code",
   "execution_count": 37,
   "metadata": {},
   "outputs": [
    {
     "data": {
      "text/plain": [
       "147"
      ]
     },
     "execution_count": 37,
     "metadata": {},
     "output_type": "execute_result"
    }
   ],
   "source": [
    "len(covid['data'])"
   ]
  },
  {
   "cell_type": "markdown",
   "metadata": {},
   "source": [
    "These articles are NOT split into paragraphs."
   ]
  },
  {
   "cell_type": "code",
   "execution_count": 39,
   "metadata": {},
   "outputs": [
    {
     "data": {
      "text/plain": [
       "1"
      ]
     },
     "execution_count": 39,
     "metadata": {},
     "output_type": "execute_result"
    }
   ],
   "source": [
    "len(covid['data'][0]['paragraphs'])"
   ]
  },
  {
   "cell_type": "markdown",
   "metadata": {},
   "source": [
    "Unlike the SQuAD jsons, the articles do not have titles (this makes it challenging to use the original HuggingFace SQuAD scripts)"
   ]
  },
  {
   "cell_type": "code",
   "execution_count": 41,
   "metadata": {},
   "outputs": [
    {
     "ename": "KeyError",
     "evalue": "'title'",
     "output_type": "error",
     "traceback": [
      "\u001b[0;31m---------------------------------------------------------------------------\u001b[0m",
      "\u001b[0;31mKeyError\u001b[0m                                  Traceback (most recent call last)",
      "\u001b[0;32m<ipython-input-41-86d01ff402ed>\u001b[0m in \u001b[0;36m<module>\u001b[0;34m()\u001b[0m\n\u001b[0;32m----> 1\u001b[0;31m \u001b[0mlen\u001b[0m\u001b[0;34m(\u001b[0m\u001b[0mcovid\u001b[0m\u001b[0;34m[\u001b[0m\u001b[0;34m'data'\u001b[0m\u001b[0;34m]\u001b[0m\u001b[0;34m[\u001b[0m\u001b[0;36m0\u001b[0m\u001b[0;34m]\u001b[0m\u001b[0;34m[\u001b[0m\u001b[0;34m'title'\u001b[0m\u001b[0;34m]\u001b[0m\u001b[0;34m)\u001b[0m\u001b[0;34m\u001b[0m\u001b[0;34m\u001b[0m\u001b[0m\n\u001b[0m",
      "\u001b[0;31mKeyError\u001b[0m: 'title'"
     ]
    }
   ],
   "source": [
    "len(covid['data'][0]['title'])"
   ]
  },
  {
   "cell_type": "markdown",
   "metadata": {},
   "source": [
    "However, they do each have a `document_id` but it's just a number. "
   ]
  },
  {
   "cell_type": "code",
   "execution_count": 45,
   "metadata": {},
   "outputs": [
    {
     "data": {
      "text/plain": [
       "dict_keys(['qas', 'context', 'document_id'])"
      ]
     },
     "execution_count": 45,
     "metadata": {},
     "output_type": "execute_result"
    }
   ],
   "source": [
    "covid['data'][0]['paragraphs'][0].keys()"
   ]
  },
  {
   "cell_type": "code",
   "execution_count": 46,
   "metadata": {},
   "outputs": [
    {
     "data": {
      "text/plain": [
       "630"
      ]
     },
     "execution_count": 46,
     "metadata": {},
     "output_type": "execute_result"
    }
   ],
   "source": [
    "covid['data'][0]['paragraphs'][0]['document_id']"
   ]
  },
  {
   "cell_type": "markdown",
   "metadata": {},
   "source": [
    "Let's look at the number of questions per article"
   ]
  },
  {
   "cell_type": "code",
   "execution_count": 54,
   "metadata": {},
   "outputs": [
    {
     "name": "stdout",
     "output_type": "stream",
     "text": [
      "Document ID\tCount\n",
      "--------------------\n",
      "630\t\t11\n",
      "650\t\t11\n",
      "1546\t\t5\n",
      "1545\t\t7\n",
      "1552\t\t7\n",
      "1553\t\t11\n",
      "1557\t\t18\n",
      "1565\t\t4\n",
      "641\t\t8\n",
      "1547\t\t3\n",
      "187\t\t10\n",
      "1582\t\t8\n",
      "1571\t\t29\n",
      "1585\t\t9\n",
      "1575\t\t2\n",
      "2585\t\t2\n",
      "1556\t\t1\n",
      "1569\t\t10\n",
      "1551\t\t8\n",
      "1594\t\t4\n",
      "1570\t\t4\n",
      "1567\t\t2\n",
      "1563\t\t5\n",
      "1549\t\t4\n",
      "1564\t\t4\n",
      "1560\t\t12\n",
      "1561\t\t7\n",
      "1562\t\t2\n",
      "1573\t\t7\n",
      "1591\t\t11\n",
      "1579\t\t9\n",
      "1583\t\t10\n",
      "1588\t\t4\n",
      "1589\t\t2\n",
      "1554\t\t4\n",
      "1568\t\t11\n",
      "1566\t\t8\n",
      "1548\t\t4\n",
      "1574\t\t7\n",
      "1581\t\t3\n",
      "1593\t\t4\n",
      "1550\t\t8\n",
      "1572\t\t10\n",
      "1576\t\t12\n",
      "1590\t\t7\n",
      "1578\t\t7\n",
      "1580\t\t5\n",
      "1584\t\t6\n",
      "1586\t\t4\n",
      "1587\t\t2\n",
      "1592\t\t9\n",
      "1597\t\t5\n",
      "1598\t\t5\n",
      "1600\t\t1\n",
      "1603\t\t3\n",
      "1606\t\t6\n",
      "1596\t\t6\n",
      "1604\t\t18\n",
      "1599\t\t3\n",
      "1601\t\t6\n",
      "1602\t\t4\n",
      "1605\t\t2\n",
      "1607\t\t8\n",
      "1608\t\t2\n",
      "1632\t\t3\n",
      "1631\t\t6\n",
      "1628\t\t14\n",
      "2439\t\t5\n",
      "2432\t\t10\n",
      "1620\t\t8\n",
      "2437\t\t14\n",
      "1625\t\t5\n",
      "1627\t\t3\n",
      "2440\t\t29\n",
      "1633\t\t6\n",
      "1634\t\t3\n",
      "2466\t\t4\n",
      "2458\t\t1\n",
      "1621\t\t4\n",
      "1629\t\t26\n",
      "1623\t\t40\n",
      "2459\t\t27\n",
      "1663\t\t2\n",
      "1660\t\t83\n",
      "1645\t\t28\n",
      "2461\t\t13\n",
      "2463\t\t20\n",
      "1652\t\t14\n",
      "1656\t\t15\n",
      "2450\t\t1\n",
      "1676\t\t12\n",
      "1661\t\t8\n",
      "1662\t\t2\n",
      "1674\t\t44\n",
      "1666\t\t5\n",
      "1667\t\t4\n",
      "1679\t\t11\n",
      "1671\t\t30\n",
      "2486\t\t59\n",
      "1664\t\t7\n",
      "1730\t\t2\n",
      "1665\t\t11\n",
      "1595\t\t15\n",
      "1684\t\t13\n",
      "1719\t\t113\n",
      "1686\t\t21\n",
      "1687\t\t11\n",
      "1690\t\t12\n",
      "1689\t\t60\n",
      "1688\t\t5\n",
      "1691\t\t3\n",
      "1698\t\t35\n",
      "185\t\t13\n",
      "186\t\t5\n",
      "1741\t\t119\n",
      "2527\t\t3\n",
      "188\t\t23\n",
      "2522\t\t1\n",
      "1714\t\t2\n",
      "2519\t\t10\n",
      "1618\t\t4\n",
      "1722\t\t1\n",
      "2592\t\t24\n",
      "2551\t\t2\n",
      "2555\t\t9\n",
      "2554\t\t3\n",
      "1740\t\t13\n",
      "2526\t\t21\n",
      "2504\t\t125\n",
      "2565\t\t9\n",
      "2683\t\t56\n",
      "2675\t\t4\n",
      "2653\t\t6\n",
      "2652\t\t4\n",
      "2642\t\t53\n",
      "2669\t\t45\n",
      "2628\t\t4\n",
      "2684\t\t39\n",
      "2620\t\t16\n",
      "2634\t\t46\n",
      "2674\t\t1\n",
      "2651\t\t2\n",
      "1559\t\t2\n",
      "2668\t\t14\n",
      "2643\t\t26\n",
      "776\t\t11\n",
      "1713\t\t5\n",
      "Total number of questions in the covid set is 2019.\n"
     ]
    }
   ],
   "source": [
    "total_count = 0\n",
    "\n",
    "print(\"Document ID\\tCount\")\n",
    "print(\"--------------------\")\n",
    "for article in covid['data']:\n",
    "    article_count = 0\n",
    "    for question in article['paragraphs'][0]['qas']:\n",
    "        article_count += 1\n",
    "        total_count += 1\n",
    "    print(f\"{article['paragraphs'][0]['document_id']}\\t\\t{article_count}\")\n",
    "print(f\"Total number of questions in the covid set is {total_count}.\")"
   ]
  },
  {
   "cell_type": "code",
   "execution_count": null,
   "metadata": {},
   "outputs": [],
   "source": [
    "covid['data'][0]['paragraphs']"
   ]
  }
 ],
 "metadata": {
  "kernelspec": {
   "display_name": "Python 3",
   "language": "python",
   "name": "python3"
  },
  "language_info": {
   "codemirror_mode": {
    "name": "ipython",
    "version": 3
   },
   "file_extension": ".py",
   "mimetype": "text/x-python",
   "name": "python",
   "nbconvert_exporter": "python",
   "pygments_lexer": "ipython3",
   "version": "3.6.10"
  }
 },
 "nbformat": 4,
 "nbformat_minor": 4
}
